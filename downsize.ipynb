{
 "cells": [
  {
   "cell_type": "code",
   "execution_count": 1,
   "id": "4d91a647",
   "metadata": {},
   "outputs": [
    {
     "name": "stdout",
     "output_type": "stream",
     "text": [
      "Defaulting to user installation because normal site-packages is not writeable\n",
      "Requirement already satisfied: pandas in ./.local/lib/python3.6/site-packages (1.1.5)\n",
      "Requirement already satisfied: pytz>=2017.2 in ./.local/lib/python3.6/site-packages (from pandas) (2021.1)\n",
      "Requirement already satisfied: numpy>=1.15.4 in ./.local/lib/python3.6/site-packages (from pandas) (1.19.5)\n",
      "Requirement already satisfied: python-dateutil>=2.7.3 in ./.local/lib/python3.6/site-packages (from pandas) (2.8.1)\n",
      "Requirement already satisfied: six>=1.5 in ./.local/lib/python3.6/site-packages (from python-dateutil>=2.7.3->pandas) (1.15.0)\n",
      "Note: you may need to restart the kernel to use updated packages.\n"
     ]
    }
   ],
   "source": [
    "pip install pandas"
   ]
  },
  {
   "cell_type": "code",
   "execution_count": 14,
   "id": "8102e51c",
   "metadata": {},
   "outputs": [],
   "source": [
    "import csv\n",
    "import os\n",
    "import numpy as np\n",
    "import csv\n",
    "import pandas as pd"
   ]
  },
  {
   "cell_type": "code",
   "execution_count": 15,
   "id": "3b8a4e31",
   "metadata": {},
   "outputs": [],
   "source": [
    "path='/home/fazilai/EGP/HS_wool_5/'"
   ]
  },
  {
   "cell_type": "code",
   "execution_count": 16,
   "id": "6654e21f",
   "metadata": {},
   "outputs": [
    {
     "name": "stdout",
     "output_type": "stream",
     "text": [
      "['AAA3', 'PCS2', 'STN1', 'AAA2', 'PCS1', 'BLS2', 'AAA1', 'PCS3', 'LKS3', 'STN2', 'BLS1', 'LKS1', 'LKS2', 'STN3', 'BLS3']\n"
     ]
    }
   ],
   "source": [
    "FILES=os.listdir(path)\n",
    "print(FILES)"
   ]
  },
  {
   "cell_type": "code",
   "execution_count": 22,
   "id": "6747c21c",
   "metadata": {},
   "outputs": [],
   "source": [
    "lines = np.array([])"
   ]
  },
  {
   "cell_type": "code",
   "execution_count": 18,
   "id": "217aba71",
   "metadata": {},
   "outputs": [],
   "source": [
    "for FILE in FILES:\n",
    "        csv_file = pd.read_csv(path+FILE+'/Hypercubes/calibrated_reflectance_SVM.csv')\n",
    "        line_size = len(csv_file.axes[0])\n",
    "        #print(line_size)\n",
    "        lines=np.append(lines, line_size)"
   ]
  },
  {
   "cell_type": "code",
   "execution_count": 19,
   "id": "1ea31519",
   "metadata": {},
   "outputs": [
    {
     "name": "stdout",
     "output_type": "stream",
     "text": [
      "37217\n"
     ]
    }
   ],
   "source": [
    "min_lines = int(min(lines))\n",
    "print(min_lines)\n"
   ]
  },
  {
   "cell_type": "code",
   "execution_count": 35,
   "id": "f2c3f5e6",
   "metadata": {},
   "outputs": [],
   "source": [
    "train_dataset = np.array([])\n",
    "test_dataset = np.array([])\n",
    "#loop to downsize\n",
    "for FILE in FILES:\n",
    "        csv_file = pd.read_csv(path+FILE+'/Hypercubes/calibrated_reflectance_SVM.csv')\n",
    "        file_len = int(len(csv_file.axes[0]))\n",
    "        #need to convert csv_file into array\n",
    "        csv_file = np.array(csv_file)\n",
    "        #pd.DataFrame(csv_file).to_csv(path+\"training_data.csv\")\n",
    "        #print(\"done1\")\n",
    "        if file_len > min_lines:\n",
    "            #create random samples if file size is greater\n",
    "            random_indices = np.random.choice(file_len, size=min_lines, replace =False)\n",
    "            #print(random_indices)\n",
    "            #downsampled file\n",
    "            random_csv=csv_file[random_indices, :]\n",
    "            \n",
    "            pd.DataFrame(random_csv).to_csv(path+FILE+\"downsampled.csv\")\n",
    "            \n",
    "\n",
    "        "
   ]
  },
  {
   "cell_type": "code",
   "execution_count": null,
   "id": "fe640e90",
   "metadata": {},
   "outputs": [],
   "source": []
  },
  {
   "cell_type": "code",
   "execution_count": null,
   "id": "90ad0dda",
   "metadata": {},
   "outputs": [],
   "source": []
  }
 ],
 "metadata": {
  "kernelspec": {
   "display_name": "Python 2",
   "language": "python",
   "name": "python2"
  },
  "language_info": {
   "codemirror_mode": {
    "name": "ipython",
    "version": 3
   },
   "file_extension": ".py",
   "mimetype": "text/x-python",
   "name": "python",
   "nbconvert_exporter": "python",
   "pygments_lexer": "ipython3",
   "version": "3.6.9"
  }
 },
 "nbformat": 4,
 "nbformat_minor": 5
}
