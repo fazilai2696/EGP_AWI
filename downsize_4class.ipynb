{
 "cells": [
  {
   "cell_type": "code",
   "execution_count": null,
   "id": "4d91a647",
   "metadata": {},
   "outputs": [],
   "source": [
    "#pip install pandas"
   ]
  },
  {
   "cell_type": "code",
   "execution_count": 1,
   "id": "8102e51c",
   "metadata": {},
   "outputs": [],
   "source": [
    "import csv\n",
    "import os\n",
    "import numpy as np\n",
    "import csv\n",
    "import pandas as pd"
   ]
  },
  {
   "cell_type": "code",
   "execution_count": 2,
   "id": "3b8a4e31",
   "metadata": {},
   "outputs": [],
   "source": [
    "path='/home/fazilai/EGP/creating_new_data/Datasets/'"
   ]
  },
  {
   "cell_type": "code",
   "execution_count": 3,
   "id": "6654e21f",
   "metadata": {},
   "outputs": [
    {
     "name": "stdout",
     "output_type": "stream",
     "text": [
      "['CMT3.csv', 'STN3.csv', 'AAA1.csv', 'AAA3.csv', 'AAA2.csv', 'DST1.csv', 'DST3.csv', 'DST2.csv', 'STN1.csv', 'STN2.csv', 'CMT1.csv', 'CMT2.csv']\n"
     ]
    }
   ],
   "source": [
    "FILES=os.listdir(path)\n",
    "print(FILES)"
   ]
  },
  {
   "cell_type": "code",
   "execution_count": 5,
   "id": "6747c21c",
   "metadata": {},
   "outputs": [],
   "source": [
    "lines = np.array([])"
   ]
  },
  {
   "cell_type": "code",
   "execution_count": null,
   "id": "2f042b6d",
   "metadata": {},
   "outputs": [],
   "source": [
    "#To correct width of file\n",
    "'''\n",
    "import re\n",
    "\n",
    "for FILE in FILES:\n",
    "    if re.search(\"CMT\", FILE):\n",
    "        csv_file = np.array(pd.read_csv(path+FILE))\n",
    "        print(FILE)\n",
    "        csv_file = csv_file[:,1:]\n",
    "        print(csv_file.shape)\n",
    "        pd.DataFrame(csv_file).to_csv(path+FILE,header=None, index=None)\n",
    "'''"
   ]
  },
  {
   "cell_type": "code",
   "execution_count": 6,
   "id": "217aba71",
   "metadata": {},
   "outputs": [
    {
     "name": "stdout",
     "output_type": "stream",
     "text": [
      "CMT3.csv\n",
      "(155424, 168)\n",
      "STN3.csv\n",
      "(58555, 168)\n",
      "AAA1.csv\n",
      "(58360, 168)\n",
      "AAA3.csv\n",
      "(58764, 168)\n",
      "AAA2.csv\n",
      "(56779, 168)\n",
      "DST1.csv\n",
      "(63787, 168)\n",
      "DST3.csv\n",
      "(66823, 168)\n",
      "DST2.csv\n",
      "(58326, 168)\n",
      "STN1.csv\n",
      "(52441, 168)\n",
      "STN2.csv\n",
      "(64663, 168)\n",
      "CMT1.csv\n",
      "(166735, 168)\n",
      "CMT2.csv\n",
      "(147093, 168)\n"
     ]
    }
   ],
   "source": [
    "for FILE in FILES:\n",
    "        csv_file = pd.read_csv(path+FILE)\n",
    "        print(FILE)\n",
    "        print(csv_file.shape)\n",
    "        line_size = len(csv_file.axes[0])\n",
    "        #print(line_size)\n",
    "        lines=np.append(lines, line_size)"
   ]
  },
  {
   "cell_type": "code",
   "execution_count": 7,
   "id": "1ea31519",
   "metadata": {},
   "outputs": [
    {
     "name": "stdout",
     "output_type": "stream",
     "text": [
      "52441\n"
     ]
    }
   ],
   "source": [
    "min_lines = int(min(lines))\n",
    "print(min_lines)  #STN1\n"
   ]
  },
  {
   "cell_type": "code",
   "execution_count": 11,
   "id": "980a8cb9",
   "metadata": {},
   "outputs": [],
   "source": [
    "#changing path\n",
    "new_PATH = \"/home/fazilai/EGP/creating_new_data/Downsampled/\""
   ]
  },
  {
   "cell_type": "code",
   "execution_count": 12,
   "id": "f2c3f5e6",
   "metadata": {},
   "outputs": [
    {
     "name": "stdout",
     "output_type": "stream",
     "text": [
      "CMT3.csv\n",
      "(52441, 168)\n",
      "STN3.csv\n",
      "(52441, 168)\n",
      "AAA1.csv\n",
      "(52441, 168)\n",
      "AAA3.csv\n",
      "(52441, 168)\n",
      "AAA2.csv\n",
      "(52441, 168)\n",
      "DST1.csv\n",
      "(52441, 168)\n",
      "DST3.csv\n",
      "(52441, 168)\n",
      "DST2.csv\n",
      "(52441, 168)\n",
      "STN1.csv\n",
      "(52441, 168)\n",
      "STN2.csv\n",
      "(52441, 168)\n",
      "CMT1.csv\n",
      "(52441, 168)\n",
      "CMT2.csv\n",
      "(52441, 168)\n"
     ]
    }
   ],
   "source": [
    "#loop to downsize\n",
    "for FILE in FILES:\n",
    "        csv_file = pd.read_csv(path+FILE)\n",
    "        file_len = int(len(csv_file.axes[0]))\n",
    "        #need to convert csv_file into array\n",
    "        csv_file = np.array(csv_file)\n",
    "        #pd.DataFrame(csv_file).to_csv(path+\"training_data.csv\")\n",
    "        print(FILE)\n",
    "        if file_len >= min_lines:\n",
    "            #create random samples if file size is greater\n",
    "            random_indices = np.random.choice(file_len, size=min_lines, replace =False)\n",
    "            #print(random_indices)\n",
    "            #downsampled file\n",
    "            random_csv=csv_file[random_indices, :]\n",
    "            print(random_csv.shape)\n",
    "            pd.DataFrame(random_csv).to_csv(new_PATH+\"downsampled\"+FILE,header=None, index=None)\n",
    " \n",
    "            "
   ]
  },
  {
   "cell_type": "code",
   "execution_count": null,
   "id": "fe640e90",
   "metadata": {},
   "outputs": [],
   "source": []
  },
  {
   "cell_type": "code",
   "execution_count": 13,
   "id": "90ad0dda",
   "metadata": {},
   "outputs": [
    {
     "name": "stdout",
     "output_type": "stream",
     "text": [
      "['downsampledAAA3.csv', 'downsampledCMT3.csv', 'downsampledAAA1.csv', 'downsampledSTN1.csv', 'downsampledCMT2.csv', 'downsampledDST2.csv', 'downsampledCMT1.csv', 'downsampledDST3.csv', 'downsampledDST1.csv', 'downsampledAAA2.csv', 'downsampledSTN2.csv', 'downsampledSTN3.csv']\n"
     ]
    }
   ],
   "source": [
    "FILES=os.listdir(new_PATH)\n",
    "print(FILES)"
   ]
  },
  {
   "cell_type": "code",
   "execution_count": 14,
   "id": "72291930",
   "metadata": {},
   "outputs": [],
   "source": [
    "train_dataset = np.empty([0,168])\n",
    "test_dataset = np.empty([0,168])"
   ]
  },
  {
   "cell_type": "code",
   "execution_count": null,
   "id": "a51bd81c",
   "metadata": {},
   "outputs": [],
   "source": []
  },
  {
   "cell_type": "code",
   "execution_count": 15,
   "id": "96882055",
   "metadata": {},
   "outputs": [
    {
     "name": "stdout",
     "output_type": "stream",
     "text": [
      "downsampledAAA3.csv\n",
      "52440\n",
      "downsampledCMT3.csv\n",
      "52440\n",
      "downsampledAAA1.csv\n",
      "52440\n",
      "downsampledSTN1.csv\n",
      "52440\n",
      "downsampledCMT2.csv\n",
      "52440\n",
      "downsampledDST2.csv\n",
      "52440\n",
      "downsampledCMT1.csv\n",
      "52440\n",
      "downsampledDST3.csv\n",
      "52440\n",
      "downsampledDST1.csv\n",
      "52440\n",
      "downsampledAAA2.csv\n",
      "52440\n",
      "downsampledSTN2.csv\n",
      "52440\n",
      "downsampledSTN3.csv\n",
      "52440\n"
     ]
    }
   ],
   "source": [
    "#adding new files to traiing/testing data\n",
    "\n",
    "for FILE in FILES:\n",
    "    csv_file = np.array(pd.read_csv(new_PATH+FILE))\n",
    "    print(FILE)\n",
    "    print(len(csv_file))\n",
    "    #csv_file_check = np.array(csv_file)\n",
    "    if csv_file[0,1] == 0:\n",
    "        train_dataset = np.concatenate((train_dataset, csv_file), axis=0)\n",
    "        #print(FILE)\n",
    "    else:\n",
    "        test_dataset = np.concatenate((test_dataset, csv_file), axis=0)\n",
    "        #print(FILE)\n",
    "            \n",
    "            "
   ]
  },
  {
   "cell_type": "code",
   "execution_count": 18,
   "id": "2e7cffdb",
   "metadata": {},
   "outputs": [
    {
     "name": "stdout",
     "output_type": "stream",
     "text": [
      "8.0\n",
      "4.0\n"
     ]
    }
   ],
   "source": [
    "#checking if data is combined properly\n",
    "print(len(train_dataset)/(min_lines-1))\n",
    "print(len(test_dataset)/(min_lines-1))"
   ]
  },
  {
   "cell_type": "code",
   "execution_count": 17,
   "id": "529ec4ee",
   "metadata": {},
   "outputs": [],
   "source": [
    "pd.DataFrame(train_dataset).to_csv(new_PATH+\"train_data.csv\",header=None, index=None)\n",
    "pd.DataFrame(test_dataset).to_csv(new_PATH+\"test_data.csv\",header=None, index=None)"
   ]
  },
  {
   "cell_type": "code",
   "execution_count": null,
   "id": "bba9715c",
   "metadata": {},
   "outputs": [],
   "source": []
  }
 ],
 "metadata": {
  "kernelspec": {
   "display_name": "Python 2",
   "language": "python",
   "name": "python2"
  },
  "language_info": {
   "codemirror_mode": {
    "name": "ipython",
    "version": 3
   },
   "file_extension": ".py",
   "mimetype": "text/x-python",
   "name": "python",
   "nbconvert_exporter": "python",
   "pygments_lexer": "ipython3",
   "version": "3.6.9"
  }
 },
 "nbformat": 4,
 "nbformat_minor": 5
}
