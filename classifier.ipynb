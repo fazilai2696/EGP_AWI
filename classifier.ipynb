{
 "cells": [
  {
   "cell_type": "code",
   "execution_count": 2,
   "id": "11032dd3",
   "metadata": {},
   "outputs": [
    {
     "name": "stdout",
     "output_type": "stream",
     "text": [
      "Defaulting to user installation because normal site-packages is not writeable\n",
      "Collecting scikit-learn\n",
      "  Downloading scikit_learn-0.24.2-cp36-cp36m-manylinux2010_x86_64.whl (22.2 MB)\n",
      "\u001b[K     |████████████████████████████████| 22.2 MB 6.0 MB/s eta 0:00:01\n",
      "\u001b[?25hRequirement already satisfied: scipy in /home/fazilai/.local/lib/python3.6/site-packages (1.5.4)\n",
      "Requirement already satisfied: matplotlib in /home/fazilai/.local/lib/python3.6/site-packages (3.3.4)\n",
      "Collecting threadpoolctl>=2.0.0\n",
      "  Downloading threadpoolctl-2.2.0-py3-none-any.whl (12 kB)\n",
      "Requirement already satisfied: numpy>=1.13.3 in /home/fazilai/.local/lib/python3.6/site-packages (from scikit-learn) (1.19.5)\n",
      "Collecting joblib>=0.11\n",
      "  Downloading joblib-1.0.1-py3-none-any.whl (303 kB)\n",
      "\u001b[K     |████████████████████████████████| 303 kB 1.8 MB/s eta 0:00:01\n",
      "\u001b[?25hRequirement already satisfied: pillow>=6.2.0 in /home/fazilai/.local/lib/python3.6/site-packages (from matplotlib) (8.2.0)\n",
      "Requirement already satisfied: cycler>=0.10 in /home/fazilai/.local/lib/python3.6/site-packages (from matplotlib) (0.10.0)\n",
      "Requirement already satisfied: pyparsing!=2.0.4,!=2.1.2,!=2.1.6,>=2.0.3 in /home/fazilai/.local/lib/python3.6/site-packages (from matplotlib) (2.4.7)\n",
      "Requirement already satisfied: kiwisolver>=1.0.1 in /home/fazilai/.local/lib/python3.6/site-packages (from matplotlib) (1.3.1)\n",
      "Requirement already satisfied: python-dateutil>=2.1 in /home/fazilai/.local/lib/python3.6/site-packages (from matplotlib) (2.8.1)\n",
      "Requirement already satisfied: six in /home/fazilai/.local/lib/python3.6/site-packages (from cycler>=0.10->matplotlib) (1.15.0)\n",
      "Installing collected packages: threadpoolctl, joblib, scikit-learn\n",
      "Successfully installed joblib-1.0.1 scikit-learn-0.24.2 threadpoolctl-2.2.0\n",
      "Note: you may need to restart the kernel to use updated packages.\n"
     ]
    }
   ],
   "source": [
    "pip install -U scikit-learn scipy matplotlib"
   ]
  },
  {
   "cell_type": "code",
   "execution_count": 3,
   "id": "4d91a647",
   "metadata": {},
   "outputs": [],
   "source": [
    "from sklearn.neural_network import MLPClassifier\n",
    "from sklearn.datasets import make_classification\n",
    "from sklearn.model_selection import train_test_split"
   ]
  },
  {
   "cell_type": "code",
   "execution_count": 5,
   "id": "8102e51c",
   "metadata": {},
   "outputs": [],
   "source": [
    "import pandas\n",
    "import csv\n",
    "import os\n",
    "import numpy as np\n",
    "import csv\n",
    "import pandas as pd"
   ]
  },
  {
   "cell_type": "code",
   "execution_count": 8,
   "id": "3b8a4e31",
   "metadata": {},
   "outputs": [],
   "source": [
    "path='/home/fazilai/EGP/'"
   ]
  },
  {
   "cell_type": "code",
   "execution_count": 9,
   "id": "6654e21f",
   "metadata": {},
   "outputs": [
    {
     "name": "stdout",
     "output_type": "stream",
     "text": [
      "['Reading', 'processing', 'awi_hs', 'Downsampled data', 'README.md', 'HS_wool_5', 'Project details.odt', '.ipynb_checkpoints', 'testing_data.csv', 'classifier.ipynb', 'training_data.csv', 'downsize.ipynb']\n"
     ]
    }
   ],
   "source": [
    "FILES=os.listdir(path)\n",
    "print(FILES)"
   ]
  },
  {
   "cell_type": "code",
   "execution_count": 10,
   "id": "6747c21c",
   "metadata": {},
   "outputs": [],
   "source": [
    "training = pd.read_csv('training_data.csv')\n",
    "testing = pd.read_csv('testing_data.csv')"
   ]
  },
  {
   "cell_type": "code",
   "execution_count": 47,
   "id": "217aba71",
   "metadata": {},
   "outputs": [],
   "source": [
    "training = np.array(training)\n",
    "testing = np.array(testing)"
   ]
  },
  {
   "cell_type": "code",
   "execution_count": 48,
   "id": "1ea31519",
   "metadata": {},
   "outputs": [
    {
     "data": {
      "text/plain": [
       "(372170, 168)"
      ]
     },
     "execution_count": 48,
     "metadata": {},
     "output_type": "execute_result"
    }
   ],
   "source": [
    "a = training[:,1:]\n",
    "b = testing[:,1:]\n",
    "a.shape"
   ]
  },
  {
   "cell_type": "code",
   "execution_count": 50,
   "id": "f2c3f5e6",
   "metadata": {},
   "outputs": [],
   "source": [
    "X_train = a[:,4:]\n",
    "X_test = b[:,4:]\n",
    "y_train = a[:,0]\n",
    "y_test = b[:,0]"
   ]
  },
  {
   "cell_type": "code",
   "execution_count": 59,
   "id": "fe640e90",
   "metadata": {
    "scrolled": true
   },
   "outputs": [],
   "source": [
    "clf = MLPClassifier(random_state=1, max_iter=300).fit(X_train, y_train)"
   ]
  },
  {
   "cell_type": "code",
   "execution_count": 60,
   "id": "90ad0dda",
   "metadata": {},
   "outputs": [
    {
     "data": {
      "text/plain": [
       "array([[0.11018774, 0.25490633, 0.15510569, 0.47928048, 0.00051976]])"
      ]
     },
     "execution_count": 60,
     "metadata": {},
     "output_type": "execute_result"
    }
   ],
   "source": [
    "clf.predict_proba(X_test[:1])"
   ]
  },
  {
   "cell_type": "code",
   "execution_count": 63,
   "id": "061b74c8",
   "metadata": {},
   "outputs": [
    {
     "data": {
      "text/plain": [
       "array([3., 0., 0., 0., 0., 2., 2., 0., 0., 0.])"
      ]
     },
     "execution_count": 63,
     "metadata": {},
     "output_type": "execute_result"
    }
   ],
   "source": [
    "clf.predict(X_test[:10, :])"
   ]
  },
  {
   "cell_type": "code",
   "execution_count": 64,
   "id": "c0474f8b",
   "metadata": {},
   "outputs": [
    {
     "data": {
      "text/plain": [
       "0.5928688502566032"
      ]
     },
     "execution_count": 64,
     "metadata": {},
     "output_type": "execute_result"
    }
   ],
   "source": [
    "clf.score(X_test, y_test)"
   ]
  },
  {
   "cell_type": "code",
   "execution_count": null,
   "id": "58afe8e7",
   "metadata": {},
   "outputs": [],
   "source": []
  }
 ],
 "metadata": {
  "kernelspec": {
   "display_name": "Python 2",
   "language": "python",
   "name": "python2"
  },
  "language_info": {
   "codemirror_mode": {
    "name": "ipython",
    "version": 3
   },
   "file_extension": ".py",
   "mimetype": "text/x-python",
   "name": "python",
   "nbconvert_exporter": "python",
   "pygments_lexer": "ipython3",
   "version": "3.6.9"
  }
 },
 "nbformat": 4,
 "nbformat_minor": 5
}
